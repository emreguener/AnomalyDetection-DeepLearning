{
  "nbformat": 4,
  "nbformat_minor": 0,
  "metadata": {
    "colab": {
      "provenance": [],
      "machine_shape": "hm",
      "gpuType": "L4"
    },
    "kernelspec": {
      "name": "python3",
      "display_name": "Python 3"
    },
    "language_info": {
      "name": "python"
    },
    "accelerator": "GPU"
  },
  "cells": [
    {
      "cell_type": "code",
      "execution_count": 1,
      "metadata": {
        "colab": {
          "base_uri": "https://localhost:8080/"
        },
        "id": "ZvyhueqP-Azu",
        "outputId": "4ebb7f88-4597-4de5-8d10-b0e7ad976e3b"
      },
      "outputs": [
        {
          "output_type": "stream",
          "name": "stdout",
          "text": [
            "Mounted at /content/drive\n"
          ]
        }
      ],
      "source": [
        "from google.colab import drive\n",
        "drive.mount('/content/drive')\n"
      ]
    },
    {
      "cell_type": "code",
      "source": [
        "!git clone https://github.com/donaldrr/simplenet.git\n",
        "%cd simplenet\n"
      ],
      "metadata": {
        "colab": {
          "base_uri": "https://localhost:8080/"
        },
        "id": "2JbEm1Nl__rl",
        "outputId": "a7d1b4fb-c28d-4139-9b8c-09b77be7bc3d"
      },
      "execution_count": 2,
      "outputs": [
        {
          "output_type": "stream",
          "name": "stdout",
          "text": [
            "Cloning into 'simplenet'...\n",
            "remote: Enumerating objects: 95, done.\u001b[K\n",
            "remote: Counting objects: 100% (56/56), done.\u001b[K\n",
            "remote: Compressing objects: 100% (25/25), done.\u001b[K\n",
            "remote: Total 95 (delta 42), reused 31 (delta 31), pack-reused 39 (from 1)\u001b[K\n",
            "Receiving objects: 100% (95/95), 235.91 KiB | 1.18 MiB/s, done.\n",
            "Resolving deltas: 100% (47/47), done.\n",
            "/content/simplenet\n"
          ]
        }
      ]
    },
    {
      "cell_type": "code",
      "source": [
        "!pip install -q torch torchvision scikit-learn opencv-python matplotlib\n"
      ],
      "metadata": {
        "colab": {
          "base_uri": "https://localhost:8080/"
        },
        "id": "uJyksNOdANN0",
        "outputId": "871cfda8-0c35-420f-8a42-35907ff841a6"
      },
      "execution_count": 3,
      "outputs": [
        {
          "output_type": "stream",
          "name": "stdout",
          "text": [
            "\u001b[2K   \u001b[90m━━━━━━━━━━━━━━━━━━━━━━━━━━━━━━━━━━━━━━━━\u001b[0m \u001b[32m363.4/363.4 MB\u001b[0m \u001b[31m3.2 MB/s\u001b[0m eta \u001b[36m0:00:00\u001b[0m\n",
            "\u001b[2K   \u001b[90m━━━━━━━━━━━━━━━━━━━━━━━━━━━━━━━━━━━━━━━━\u001b[0m \u001b[32m13.8/13.8 MB\u001b[0m \u001b[31m116.0 MB/s\u001b[0m eta \u001b[36m0:00:00\u001b[0m\n",
            "\u001b[2K   \u001b[90m━━━━━━━━━━━━━━━━━━━━━━━━━━━━━━━━━━━━━━━━\u001b[0m \u001b[32m24.6/24.6 MB\u001b[0m \u001b[31m96.7 MB/s\u001b[0m eta \u001b[36m0:00:00\u001b[0m\n",
            "\u001b[2K   \u001b[90m━━━━━━━━━━━━━━━━━━━━━━━━━━━━━━━━━━━━━━━━\u001b[0m \u001b[32m883.7/883.7 kB\u001b[0m \u001b[31m63.3 MB/s\u001b[0m eta \u001b[36m0:00:00\u001b[0m\n",
            "\u001b[2K   \u001b[90m━━━━━━━━━━━━━━━━━━━━━━━━━━━━━━━━━━━━━━━━\u001b[0m \u001b[32m664.8/664.8 MB\u001b[0m \u001b[31m2.2 MB/s\u001b[0m eta \u001b[36m0:00:00\u001b[0m\n",
            "\u001b[2K   \u001b[90m━━━━━━━━━━━━━━━━━━━━━━━━━━━━━━━━━━━━━━━━\u001b[0m \u001b[32m211.5/211.5 MB\u001b[0m \u001b[31m4.9 MB/s\u001b[0m eta \u001b[36m0:00:00\u001b[0m\n",
            "\u001b[2K   \u001b[90m━━━━━━━━━━━━━━━━━━━━━━━━━━━━━━━━━━━━━━━━\u001b[0m \u001b[32m56.3/56.3 MB\u001b[0m \u001b[31m44.9 MB/s\u001b[0m eta \u001b[36m0:00:00\u001b[0m\n",
            "\u001b[2K   \u001b[90m━━━━━━━━━━━━━━━━━━━━━━━━━━━━━━━━━━━━━━━━\u001b[0m \u001b[32m127.9/127.9 MB\u001b[0m \u001b[31m20.3 MB/s\u001b[0m eta \u001b[36m0:00:00\u001b[0m\n",
            "\u001b[2K   \u001b[90m━━━━━━━━━━━━━━━━━━━━━━━━━━━━━━━━━━━━━━━━\u001b[0m \u001b[32m207.5/207.5 MB\u001b[0m \u001b[31m4.2 MB/s\u001b[0m eta \u001b[36m0:00:00\u001b[0m\n",
            "\u001b[2K   \u001b[90m━━━━━━━━━━━━━━━━━━━━━━━━━━━━━━━━━━━━━━━━\u001b[0m \u001b[32m21.1/21.1 MB\u001b[0m \u001b[31m105.8 MB/s\u001b[0m eta \u001b[36m0:00:00\u001b[0m\n",
            "\u001b[?25h"
          ]
        }
      ]
    },
    {
      "cell_type": "markdown",
      "source": [
        "metrics.py dosyasındaki .append() satırını otomatik olarak concat() ile değiştirildi"
      ],
      "metadata": {
        "id": "4TMJItcTF3x9"
      }
    },
    {
      "cell_type": "markdown",
      "source": [
        "Yeniden Adlandırma ve Dönüştürme Kodu"
      ],
      "metadata": {
        "id": "-uIcrRCCMQjs"
      }
    },
    {
      "cell_type": "code",
      "source": [
        "from PIL import Image\n",
        "import os\n",
        "\n",
        "gt_dir = \"/content/drive/MyDrive/wood_dataset/wood/ground_truth/defect\"\n",
        "updated = 0\n",
        "\n",
        "for fname in os.listdir(gt_dir):\n",
        "    if fname.endswith(\"_mask.jpg\"):\n",
        "        base_name = fname.replace(\"_mask.jpg\", \"\")\n",
        "        old_path = os.path.join(gt_dir, fname)\n",
        "        new_path = os.path.join(gt_dir, base_name + \".png\")\n",
        "\n",
        "        # JPG'yi PNG'ye dönüştür ve adlandır\n",
        "        img = Image.open(old_path).convert(\"L\")\n",
        "        img.save(new_path, format=\"PNG\")\n",
        "        updated += 1\n",
        "\n",
        "print(f\"{updated} dosya yeniden adlandırıldı ve PNG'ye dönüştürüldü ✅\")\n"
      ],
      "metadata": {
        "colab": {
          "base_uri": "https://localhost:8080/"
        },
        "id": "pT8elqxzMQ9n",
        "outputId": "0b851e84-1e7d-467c-c532-e7ce431167d5"
      },
      "execution_count": null,
      "outputs": [
        {
          "output_type": "stream",
          "name": "stdout",
          "text": [
            "71 dosya yeniden adlandırıldı ve PNG'ye dönüştürüldü ✅\n"
          ]
        }
      ]
    },
    {
      "cell_type": "code",
      "source": [
        "import os\n",
        "\n",
        "gt_dir = \"/content/drive/MyDrive/wood_dataset/wood/ground_truth/defect\"\n",
        "deleted = 0\n",
        "\n",
        "for f in os.listdir(gt_dir):\n",
        "    if f.endswith(\"_mask.jpg\"):\n",
        "        os.remove(os.path.join(gt_dir, f))\n",
        "        deleted += 1\n",
        "\n",
        "print(f\"{deleted} adet '_mask.jpg' uzantılı eski maske silindi ✅\")\n"
      ],
      "metadata": {
        "colab": {
          "base_uri": "https://localhost:8080/"
        },
        "id": "CyMIWmoINnG6",
        "outputId": "f8b9a7f5-5545-4800-a571-051809eacebb"
      },
      "execution_count": null,
      "outputs": [
        {
          "output_type": "stream",
          "name": "stdout",
          "text": [
            "71 adet '_mask.jpg' uzantılı eski maske silindi ✅\n"
          ]
        }
      ]
    },
    {
      "cell_type": "code",
      "source": [
        "test_imgs = sorted(os.listdir(\"/content/drive/MyDrive/wood_dataset/wood/test/defect\"))\n",
        "gt_masks = sorted(os.listdir(\"/content/drive/MyDrive/wood_dataset/wood/ground_truth/defect\"))\n",
        "\n",
        "print(\"test:\", len(test_imgs))\n",
        "print(\"gt:\", len(gt_masks))\n",
        "\n",
        "# dosya adı eşleşmeleri\n",
        "img_names = [f.split(\".\")[0] for f in test_imgs]\n",
        "mask_names = [f.split(\".\")[0] for f in gt_masks]\n",
        "\n",
        "print(\"eşleşen sayısı:\", len(set(img_names) & set(mask_names)))\n"
      ],
      "metadata": {
        "colab": {
          "base_uri": "https://localhost:8080/"
        },
        "id": "OrfGx-vvNaCi",
        "outputId": "03bc87ec-5e00-4484-9ac0-3ee4696290c4"
      },
      "execution_count": null,
      "outputs": [
        {
          "output_type": "stream",
          "name": "stdout",
          "text": [
            "test: 71\n",
            "gt: 71\n",
            "eşleşen sayısı: 71\n"
          ]
        }
      ]
    },
    {
      "cell_type": "markdown",
      "source": [
        "simplenet.py ve metrics.py f1 ve iou yazdırılması için güncellendi."
      ],
      "metadata": {
        "id": "ZbcEaB6zYwa9"
      }
    },
    {
      "cell_type": "code",
      "source": [
        "!python main.py \\\n",
        "--gpu 0 \\\n",
        "--seed 0 \\\n",
        "--log_group simplenet_wood_fast \\\n",
        "--log_project WoodOnly \\\n",
        "--results_path results \\\n",
        "--run_name wood_fast_run \\\n",
        "net \\\n",
        "-b wideresnet50 \\\n",
        "-le layer2 \\\n",
        "-le layer3 \\\n",
        "--pretrain_embed_dimension 1536 \\\n",
        "--target_embed_dimension 1536 \\\n",
        "--patchsize 3 \\\n",
        "--meta_epochs 15 \\\n",
        "--embedding_size 256 \\\n",
        "--gan_epochs 5 \\\n",
        "--noise_std 0.015 \\\n",
        "--dsc_hidden 768 \\\n",
        "--dsc_layers 2 \\\n",
        "--dsc_margin .5 \\\n",
        "--pre_proj 2 \\\n",
        "dataset \\\n",
        "--batch_size 8 \\\n",
        "--resize 256 \\\n",
        "--imagesize 256 \\\n",
        "-d wood \\\n",
        "mvtec /content/drive/MyDrive/wood_dataset\n"
      ],
      "metadata": {
        "colab": {
          "base_uri": "https://localhost:8080/"
        },
        "id": "a8RSJdjPDFJE",
        "outputId": "184686f9-3ec4-456e-a3fb-e2828649d569"
      },
      "execution_count": 8,
      "outputs": [
        {
          "output_type": "stream",
          "name": "stdout",
          "text": [
            "2025-04-21 16:31:42.781396: I tensorflow/core/util/port.cc:153] oneDNN custom operations are on. You may see slightly different numerical results due to floating-point round-off errors from different computation orders. To turn them off, set the environment variable `TF_ENABLE_ONEDNN_OPTS=0`.\n",
            "2025-04-21 16:31:42.799593: E external/local_xla/xla/stream_executor/cuda/cuda_fft.cc:477] Unable to register cuFFT factory: Attempting to register factory for plugin cuFFT when one has already been registered\n",
            "WARNING: All log messages before absl::InitializeLog() is called are written to STDERR\n",
            "E0000 00:00:1745253102.821214    9292 cuda_dnn.cc:8310] Unable to register cuDNN factory: Attempting to register factory for plugin cuDNN when one has already been registered\n",
            "E0000 00:00:1745253102.828052    9292 cuda_blas.cc:1418] Unable to register cuBLAS factory: Attempting to register factory for plugin cuBLAS when one has already been registered\n",
            "2025-04-21 16:31:42.850208: I tensorflow/core/platform/cpu_feature_guard.cc:210] This TensorFlow binary is optimized to use available CPU instructions in performance-critical operations.\n",
            "To enable the following instructions: AVX2 AVX512F AVX512_VNNI FMA, in other operations, rebuild TensorFlow with the appropriate compiler flags.\n",
            "INFO:__main__:Command line arguments: main.py --gpu 0 --seed 0 --log_group simplenet_wood_fast --log_project WoodOnly --results_path results --run_name wood_fast_run net -b wideresnet50 -le layer2 -le layer3 --pretrain_embed_dimension 1536 --target_embed_dimension 1536 --patchsize 3 --meta_epochs 15 --embedding_size 256 --gan_epochs 5 --noise_std 0.015 --dsc_hidden 768 --dsc_layers 2 --dsc_margin .5 --pre_proj 2 dataset --batch_size 8 --resize 256 --imagesize 256 -d wood mvtec /content/drive/MyDrive/wood_dataset\n",
            "INFO:__main__:Dataset: train=70 test=141\n",
            "INFO:__main__:Evaluating dataset [mvtec_wood] (1/1)...\n",
            "/usr/local/lib/python3.11/dist-packages/torchvision/models/_utils.py:208: UserWarning: The parameter 'pretrained' is deprecated since 0.13 and may be removed in the future, please use 'weights' instead.\n",
            "  warnings.warn(\n",
            "/usr/local/lib/python3.11/dist-packages/torchvision/models/_utils.py:223: UserWarning: Arguments other than a weight enum or `None` for 'weights' are deprecated since 0.13 and may be removed in the future. The current behavior is equivalent to passing `weights=Wide_ResNet50_2_Weights.IMAGENET1K_V1`. You can also use `weights=Wide_ResNet50_2_Weights.DEFAULT` to get the most up-to-date weights.\n",
            "  warnings.warn(msg)\n",
            "INFO:__main__:Training models (1/1)\n",
            "INFO:simplenet:Training discriminator...\n",
            "epoch:4 loss:0.91647 lr:0.0002 p_true:0.123 p_fake:0.133: 100% 5/5 [00:12<00:00,  2.53s/it]\n",
            "/content/simplenet/metrics.py:148: FutureWarning: The behavior of DataFrame concatenation with empty or all-NA entries is deprecated. In a future version, this will no longer exclude empty or all-NA columns when determining the result dtypes. To retain the old behavior, exclude the relevant entries before the concat operation.\n",
            "  df = pd.concat([df, new_row], ignore_index=True)\n",
            "----- 0 I-AUROC:0.4769(MAX:0.4769)  P-AUROC0.3422(MAX:0.3422)  PRO-AUROC0.0755(MAX:0.0755)  F1:0.0064  IoU:0.0032 -----\n",
            "INFO:simplenet:Training discriminator...\n",
            "epoch:4 loss:0.72717 lr:0.0002 p_true:0.226 p_fake:0.253: 100% 5/5 [00:12<00:00,  2.53s/it]\n",
            "/content/simplenet/metrics.py:148: FutureWarning: The behavior of DataFrame concatenation with empty or all-NA entries is deprecated. In a future version, this will no longer exclude empty or all-NA columns when determining the result dtypes. To retain the old behavior, exclude the relevant entries before the concat operation.\n",
            "  df = pd.concat([df, new_row], ignore_index=True)\n",
            "----- 1 I-AUROC:0.6539(MAX:0.6539)  P-AUROC0.5721(MAX:0.5721)  PRO-AUROC0.393(MAX:0.393)  F1:0.1057  IoU:0.0558 -----\n",
            "INFO:simplenet:Training discriminator...\n",
            "epoch:4 loss:0.50916 lr:0.0002 p_true:0.351 p_fake:0.397: 100% 5/5 [00:12<00:00,  2.57s/it]\n",
            "/content/simplenet/metrics.py:148: FutureWarning: The behavior of DataFrame concatenation with empty or all-NA entries is deprecated. In a future version, this will no longer exclude empty or all-NA columns when determining the result dtypes. To retain the old behavior, exclude the relevant entries before the concat operation.\n",
            "  df = pd.concat([df, new_row], ignore_index=True)\n",
            "----- 2 I-AUROC:0.6571(MAX:0.6571)  P-AUROC0.7013(MAX:0.7013)  PRO-AUROC0.3317(MAX:0.3317)  F1:0.115  IoU:0.061 -----\n",
            "INFO:simplenet:Training discriminator...\n",
            "epoch:4 loss:0.29298 lr:0.0002 p_true:0.527 p_fake:0.579: 100% 5/5 [00:12<00:00,  2.58s/it]\n",
            "/content/simplenet/metrics.py:148: FutureWarning: The behavior of DataFrame concatenation with empty or all-NA entries is deprecated. In a future version, this will no longer exclude empty or all-NA columns when determining the result dtypes. To retain the old behavior, exclude the relevant entries before the concat operation.\n",
            "  df = pd.concat([df, new_row], ignore_index=True)\n",
            "----- 3 I-AUROC:0.6901(MAX:0.6901)  P-AUROC0.7233(MAX:0.7233)  PRO-AUROC0.3086(MAX:0.3086)  F1:0.1203  IoU:0.064 -----\n",
            "INFO:simplenet:Training discriminator...\n",
            "epoch:4 loss:0.15021 lr:0.0002 p_true:0.686 p_fake:0.71: 100% 5/5 [00:12<00:00,  2.57s/it]\n",
            "/content/simplenet/metrics.py:148: FutureWarning: The behavior of DataFrame concatenation with empty or all-NA entries is deprecated. In a future version, this will no longer exclude empty or all-NA columns when determining the result dtypes. To retain the old behavior, exclude the relevant entries before the concat operation.\n",
            "  df = pd.concat([df, new_row], ignore_index=True)\n",
            "----- 4 I-AUROC:0.6264(MAX:0.6901)  P-AUROC0.7027(MAX:0.7233)  PRO-AUROC0.3213(MAX:0.3086)  F1:0.1429  IoU:0.0769 -----\n",
            "INFO:simplenet:Training discriminator...\n",
            "epoch:4 loss:0.06836 lr:0.0002 p_true:0.838 p_fake:0.846: 100% 5/5 [00:12<00:00,  2.59s/it]\n",
            "/content/simplenet/metrics.py:148: FutureWarning: The behavior of DataFrame concatenation with empty or all-NA entries is deprecated. In a future version, this will no longer exclude empty or all-NA columns when determining the result dtypes. To retain the old behavior, exclude the relevant entries before the concat operation.\n",
            "  df = pd.concat([df, new_row], ignore_index=True)\n",
            "----- 5 I-AUROC:0.7473(MAX:0.7473)  P-AUROC0.815(MAX:0.815)  PRO-AUROC0.5114(MAX:0.5114)  F1:0.2019  IoU:0.1123 -----\n",
            "INFO:simplenet:Training discriminator...\n",
            "epoch:4 loss:0.03073 lr:0.0002 p_true:0.923 p_fake:0.925: 100% 5/5 [00:13<00:00,  2.62s/it]\n",
            "/content/simplenet/metrics.py:148: FutureWarning: The behavior of DataFrame concatenation with empty or all-NA entries is deprecated. In a future version, this will no longer exclude empty or all-NA columns when determining the result dtypes. To retain the old behavior, exclude the relevant entries before the concat operation.\n",
            "  df = pd.concat([df, new_row], ignore_index=True)\n",
            "----- 6 I-AUROC:0.7302(MAX:0.7473)  P-AUROC0.7964(MAX:0.815)  PRO-AUROC0.4966(MAX:0.5114)  F1:0.1852  IoU:0.102 -----\n",
            "INFO:simplenet:Training discriminator...\n",
            "epoch:4 loss:0.03783 lr:0.0002 p_true:0.942 p_fake:0.941: 100% 5/5 [00:12<00:00,  2.60s/it]\n",
            "/content/simplenet/metrics.py:148: FutureWarning: The behavior of DataFrame concatenation with empty or all-NA entries is deprecated. In a future version, this will no longer exclude empty or all-NA columns when determining the result dtypes. To retain the old behavior, exclude the relevant entries before the concat operation.\n",
            "  df = pd.concat([df, new_row], ignore_index=True)\n",
            "----- 7 I-AUROC:0.7352(MAX:0.7473)  P-AUROC0.7066(MAX:0.815)  PRO-AUROC0.3879(MAX:0.5114)  F1:0.1227  IoU:0.0654 -----\n",
            "INFO:simplenet:Training discriminator...\n",
            "epoch:4 loss:0.01835 lr:0.0002 p_true:0.964 p_fake:0.965: 100% 5/5 [00:12<00:00,  2.59s/it]\n",
            "/content/simplenet/metrics.py:148: FutureWarning: The behavior of DataFrame concatenation with empty or all-NA entries is deprecated. In a future version, this will no longer exclude empty or all-NA columns when determining the result dtypes. To retain the old behavior, exclude the relevant entries before the concat operation.\n",
            "  df = pd.concat([df, new_row], ignore_index=True)\n",
            "----- 8 I-AUROC:0.7861(MAX:0.7861)  P-AUROC0.8371(MAX:0.8371)  PRO-AUROC0.5943(MAX:0.5943)  F1:0.1858  IoU:0.1024 -----\n",
            "INFO:simplenet:Training discriminator...\n",
            "epoch:4 loss:0.02652 lr:0.0002 p_true:0.95 p_fake:0.958: 100% 5/5 [00:13<00:00,  2.61s/it]\n",
            "/content/simplenet/metrics.py:148: FutureWarning: The behavior of DataFrame concatenation with empty or all-NA entries is deprecated. In a future version, this will no longer exclude empty or all-NA columns when determining the result dtypes. To retain the old behavior, exclude the relevant entries before the concat operation.\n",
            "  df = pd.concat([df, new_row], ignore_index=True)\n",
            "----- 9 I-AUROC:0.6722(MAX:0.7861)  P-AUROC0.7975(MAX:0.8371)  PRO-AUROC0.5359(MAX:0.5943)  F1:0.1688  IoU:0.0922 -----\n",
            "INFO:simplenet:Training discriminator...\n",
            "epoch:4 loss:0.01376 lr:0.0002 p_true:0.964 p_fake:0.963: 100% 5/5 [00:13<00:00,  2.60s/it]\n",
            "/content/simplenet/metrics.py:148: FutureWarning: The behavior of DataFrame concatenation with empty or all-NA entries is deprecated. In a future version, this will no longer exclude empty or all-NA columns when determining the result dtypes. To retain the old behavior, exclude the relevant entries before the concat operation.\n",
            "  df = pd.concat([df, new_row], ignore_index=True)\n",
            "----- 10 I-AUROC:0.7859(MAX:0.7861)  P-AUROC0.8176(MAX:0.8371)  PRO-AUROC0.5059(MAX:0.5943)  F1:0.186  IoU:0.1025 -----\n",
            "INFO:simplenet:Training discriminator...\n",
            "epoch:4 loss:0.02097 lr:0.0002 p_true:0.963 p_fake:0.973: 100% 5/5 [00:13<00:00,  2.63s/it]\n",
            "/content/simplenet/metrics.py:148: FutureWarning: The behavior of DataFrame concatenation with empty or all-NA entries is deprecated. In a future version, this will no longer exclude empty or all-NA columns when determining the result dtypes. To retain the old behavior, exclude the relevant entries before the concat operation.\n",
            "  df = pd.concat([df, new_row], ignore_index=True)\n",
            "----- 11 I-AUROC:0.7839(MAX:0.7861)  P-AUROC0.7616(MAX:0.8371)  PRO-AUROC0.4482(MAX:0.5943)  F1:0.1452  IoU:0.0783 -----\n",
            "INFO:simplenet:Training discriminator...\n",
            "epoch:4 loss:0.02482 lr:0.0002 p_true:0.963 p_fake:0.97: 100% 5/5 [00:13<00:00,  2.61s/it]\n",
            "/content/simplenet/metrics.py:148: FutureWarning: The behavior of DataFrame concatenation with empty or all-NA entries is deprecated. In a future version, this will no longer exclude empty or all-NA columns when determining the result dtypes. To retain the old behavior, exclude the relevant entries before the concat operation.\n",
            "  df = pd.concat([df, new_row], ignore_index=True)\n",
            "----- 12 I-AUROC:0.7207(MAX:0.7861)  P-AUROC0.8102(MAX:0.8371)  PRO-AUROC0.4667(MAX:0.5943)  F1:0.187  IoU:0.1031 -----\n",
            "INFO:simplenet:Training discriminator...\n",
            "epoch:4 loss:0.01155 lr:0.0002 p_true:0.97 p_fake:0.971: 100% 5/5 [00:13<00:00,  2.61s/it]\n",
            "/content/simplenet/metrics.py:148: FutureWarning: The behavior of DataFrame concatenation with empty or all-NA entries is deprecated. In a future version, this will no longer exclude empty or all-NA columns when determining the result dtypes. To retain the old behavior, exclude the relevant entries before the concat operation.\n",
            "  df = pd.concat([df, new_row], ignore_index=True)\n",
            "----- 13 I-AUROC:0.762(MAX:0.7861)  P-AUROC0.8277(MAX:0.8371)  PRO-AUROC0.4963(MAX:0.5943)  F1:0.2397  IoU:0.1361 -----\n",
            "INFO:simplenet:Training discriminator...\n",
            "epoch:4 loss:0.01699 lr:0.0002 p_true:0.969 p_fake:0.979: 100% 5/5 [00:12<00:00,  2.59s/it]\n",
            "/content/simplenet/metrics.py:148: FutureWarning: The behavior of DataFrame concatenation with empty or all-NA entries is deprecated. In a future version, this will no longer exclude empty or all-NA columns when determining the result dtypes. To retain the old behavior, exclude the relevant entries before the concat operation.\n",
            "  df = pd.concat([df, new_row], ignore_index=True)\n",
            "----- 14 I-AUROC:0.8217(MAX:0.8217)  P-AUROC0.8119(MAX:0.8119)  PRO-AUROC0.5551(MAX:0.5551)  F1:0.176  IoU:0.0965 -----\n",
            "INFO:__main__:instance_auroc: 0.822\n",
            "INFO:__main__:full_pixel_auroc: 0.812\n",
            "INFO:__main__:anomaly_pixel_auroc: 0.555\n",
            "INFO:__main__:\n",
            "\n",
            "-----\n",
            "\n",
            "INFO:utils:instance_auroc: 0.822\n",
            "INFO:utils:full_pixel_auroc: 0.812\n",
            "INFO:utils:anomaly_pixel_auroc: 0.555\n"
          ]
        }
      ]
    },
    {
      "cell_type": "code",
      "source": [
        "!python main.py \\\n",
        "--gpu 0 \\\n",
        "--seed 0 \\\n",
        "--log_group simplenet_wood_fast \\\n",
        "--log_project WoodOnly \\\n",
        "--results_path results \\\n",
        "--run_name wood_fast_run \\\n",
        "net \\\n",
        "-b wideresnet50 \\\n",
        "-le layer2 \\\n",
        "-le layer3 \\\n",
        "--pretrain_embed_dimension 1536 \\\n",
        "--target_embed_dimension 1536 \\\n",
        "--patchsize 3 \\\n",
        "--meta_epochs 20 \\\n",
        "--embedding_size 256 \\\n",
        "--gan_epochs 4 \\\n",
        "--noise_std 0.015 \\\n",
        "--dsc_hidden 1024 \\\n",
        "--dsc_layers 2 \\\n",
        "--dsc_margin .5 \\\n",
        "--pre_proj 1 \\\n",
        "dataset \\\n",
        "--batch_size 4 \\\n",
        "--resize 256 \\\n",
        "--imagesize 256 \\\n",
        "-d wood \\\n",
        "mvtec /content/drive/MyDrive/wood_dataset\n"
      ],
      "metadata": {
        "id": "dCb1l4ECFu8e"
      },
      "execution_count": null,
      "outputs": []
    }
  ]
}